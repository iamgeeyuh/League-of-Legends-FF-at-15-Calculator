{
 "cells": [
  {
   "cell_type": "code",
   "execution_count": null,
   "metadata": {},
   "outputs": [],

   "source": []
=======
   "source": [
    "import pandas as pd\n",
    "import matplotlib.pyplot as plt"
   ]
  },
  {
   "cell_type": "code",
   "execution_count": null,
   "metadata": {},
   "outputs": [],
   "source": [
    "data = pd.read_csv(\"match_data_v5.csv\")\n",
    "\n",
    "# remove instances where plates destroyed and towers destroyed don't line up\n",
    "data = data[data.iloc[:, 20] > (data.iloc[:, 8] - 12)]\n",
    "data = data[data.iloc[:, 22] > (data.iloc[:, 6] - 12)]\n",
    "\n",
    "# there are only 15 plates in a match, remove instances where more than 15 plates are destroyed\n",
    "data = data[data.iloc[:, 8] <= 15]\n",
    "data = data[data.iloc[:, 22] <= 15]\n",
    "\n",
    "# remove instances with more than 70 wards placed, greater than 70 are outliers\n",
    "data = data[data.iloc[:, 2] <= 70]"
   ]
  },
  {
   "cell_type": "code",
   "execution_count": null,
   "metadata": {},
   "outputs": [],
   "source": [
    "blue_control_wards = data.iloc[:, 1]\n",
    "blue_wards = data.iloc[:, 2]\n",
    "blue_kills = data.iloc[:, 3]\n",
    "blue_dragons = data.iloc[:, 4]\n",
    "blue_heralds = data.iloc[:, 5]\n",
    "blue_towers = data.iloc[:, 6]\n",
    "blue_inhibs = data.iloc[:, 7]\n",
    "blue_plates = data.iloc[:, 8]\n",
    "blue_first_blood = data.iloc[:, 9]\n",
    "blue_minions = data.iloc[:, 10]\n",
    "blue_jungle = data.iloc[:, 11]\n",
    "blue_gold = data.iloc[:, 12]\n",
    "blue_xp = data.iloc[:, 13]\n",
    "blue_dmg = data.iloc[:, 14]\n",
    "red_control_wards = data.iloc[:, 15]\n",
    "red_wards = data.iloc[:, 16]\n",
    "red_kills = data.iloc[:, 17]\n",
    "red_dragons = data.iloc[:, 18]\n",
    "red_heralds = data.iloc[:, 19]\n",
    "red_towers = data.iloc[:, 20]\n",
    "red_inhibs = data.iloc[:, 21]\n",
    "red_plates = data.iloc[:, 22]\n",
    "red_minions = data.iloc[:, 23]\n",
    "red_jungle = data.iloc[:, 24]\n",
    "red_gold = data.iloc[:, 25]\n",
    "red_xp = data.iloc[:, 26]\n",
    "red_dmg = data.iloc[:, 27]\n",
    "\n",
    "blue_win = data[data.iloc[:, 28] >= 1]\n",
    "blue_loss = data[data.iloc[:, 28] < 1]"
   ]
  },
  {
   "cell_type": "code",
   "execution_count": null,
   "metadata": {},
   "outputs": [],
   "source": [
    "def plot_lists(list1, list2, name1, name2):\n",
    "    if len(list1) != len(list2):\n",
    "        raise ValueError(\"The lists must be of equal length.\")\n",
    "\n",
    "    plt.figure(figsize=(10, 6))\n",
    "    plt.scatter(list1, list2)\n",
    "    plt.xlabel(name1)\n",
    "    plt.ylabel(name2)\n",
    "    plt.title(f\"{name1} vs {name2}\")\n",
    "    plt.show()"
   ]
  },
  {
   "cell_type": "code",
   "execution_count": null,
   "metadata": {},
   "outputs": [],
   "source": [
    "def plot_hist_loss(list1, name1):\n",
    "\n",
    "    # plt.figure(figsize=(8, 6))\n",
    "    plt.hist(list1, bins = 7, color = 'skyblue', edgecolor = 'black')\n",
    "    plt.xlabel(name1)\n",
    "    plt.ylabel(\"Losses\")\n",
    "    plt.title(\"Frequency of Losses\")\n",
    "    plt.show()"
   ]
  },
  {
   "cell_type": "code",
   "execution_count": null,
   "metadata": {},
   "outputs": [],
   "source": [
    "def plot_hist_win(list1, name1):\n",
    "\n",
    "    # plt.figure(figsize=(8, 6))\n",
    "    plt.hist(list1, bins = 7, color = 'skyblue', edgecolor = 'black')\n",
    "    plt.xlabel(name1)\n",
    "    plt.ylabel(\"Wins\")\n",
    "    plt.title(\"Frequency of Wins\")\n",
    "    plt.show()"
   ]
  },
  {
   "cell_type": "code",
   "execution_count": null,
   "metadata": {},
   "outputs": [],
   "source": [
    "plot_lists(blue_towers, red_plates)"
   ]
  },
  {
   "cell_type": "code",
   "execution_count": null,
   "metadata": {},
   "outputs": [],
   "source": [
    "plot_lists(red_towers, blue_plates)"
   ]
  },
  {
   "cell_type": "code",
   "execution_count": null,
   "metadata": {},
   "outputs": [],
   "source": [
    "blue_control_wards_loss = blue_loss.iloc[:, 1]\n",
    "plot_hist_loss(blue_control_wards_loss)"
   ]
  },
  {
   "cell_type": "code",
   "execution_count": null,
   "metadata": {},
   "outputs": [],
   "source": [
    "blue_control_wards_win = blue_win.iloc[:, 1]\n",
    "plot_hist_loss(blue_control_wards_win)"
   ]
  },
  {
   "cell_type": "code",
   "execution_count": null,
   "metadata": {},
   "outputs": [],
   "source": [
    "plot_lists(blue_control_wards, blue_wards)"
   ]
  }
 ],
 "metadata": {
  "language_info": {
   "name": "python"
  }
 },
 "nbformat": 4,
 "nbformat_minor": 2
}
